{
 "cells": [
  {
   "cell_type": "code",
   "execution_count": 1,
   "metadata": {},
   "outputs": [],
   "source": [
    "#Loading Libraries\n",
    "import pandas as pd\n",
    "import numpy as np \n",
    "import matplotlib.pyplot as plt\n",
    "import seaborn as sns\n",
    "%matplotlib inline"
   ]
  },
  {
   "cell_type": "code",
   "execution_count": 2,
   "metadata": {},
   "outputs": [],
   "source": [
    "#Loading data\n",
    "c_data=pd.read_csv('client_data.csv')\n",
    "p_data=pd.read_csv('price_data.csv')"
   ]
  },
  {
   "cell_type": "code",
   "execution_count": 3,
   "metadata": {},
   "outputs": [
    {
     "data": {
      "text/html": [
       "<div>\n",
       "<style scoped>\n",
       "    .dataframe tbody tr th:only-of-type {\n",
       "        vertical-align: middle;\n",
       "    }\n",
       "\n",
       "    .dataframe tbody tr th {\n",
       "        vertical-align: top;\n",
       "    }\n",
       "\n",
       "    .dataframe thead th {\n",
       "        text-align: right;\n",
       "    }\n",
       "</style>\n",
       "<table border=\"1\" class=\"dataframe\">\n",
       "  <thead>\n",
       "    <tr style=\"text-align: right;\">\n",
       "      <th></th>\n",
       "      <th>id</th>\n",
       "      <th>channel_sales</th>\n",
       "      <th>cons_12m</th>\n",
       "      <th>cons_gas_12m</th>\n",
       "      <th>cons_last_month</th>\n",
       "      <th>date_activ</th>\n",
       "      <th>date_end</th>\n",
       "      <th>date_modif_prod</th>\n",
       "      <th>date_renewal</th>\n",
       "      <th>forecast_cons_12m</th>\n",
       "      <th>...</th>\n",
       "      <th>has_gas</th>\n",
       "      <th>imp_cons</th>\n",
       "      <th>margin_gross_pow_ele</th>\n",
       "      <th>margin_net_pow_ele</th>\n",
       "      <th>nb_prod_act</th>\n",
       "      <th>net_margin</th>\n",
       "      <th>num_years_antig</th>\n",
       "      <th>origin_up</th>\n",
       "      <th>pow_max</th>\n",
       "      <th>churn</th>\n",
       "    </tr>\n",
       "  </thead>\n",
       "  <tbody>\n",
       "    <tr>\n",
       "      <th>0</th>\n",
       "      <td>24011ae4ebbe3035111d65fa7c15bc57</td>\n",
       "      <td>foosdfpfkusacimwkcsosbicdxkicaua</td>\n",
       "      <td>0</td>\n",
       "      <td>54946</td>\n",
       "      <td>0</td>\n",
       "      <td>2013-06-15</td>\n",
       "      <td>2016-06-15</td>\n",
       "      <td>2015-11-01</td>\n",
       "      <td>2015-06-23</td>\n",
       "      <td>0.00</td>\n",
       "      <td>...</td>\n",
       "      <td>t</td>\n",
       "      <td>0.00</td>\n",
       "      <td>25.44</td>\n",
       "      <td>25.44</td>\n",
       "      <td>2</td>\n",
       "      <td>678.99</td>\n",
       "      <td>3</td>\n",
       "      <td>lxidpiddsbxsbosboudacockeimpuepw</td>\n",
       "      <td>43.648</td>\n",
       "      <td>1</td>\n",
       "    </tr>\n",
       "    <tr>\n",
       "      <th>1</th>\n",
       "      <td>d29c2c54acc38ff3c0614d0a653813dd</td>\n",
       "      <td>MISSING</td>\n",
       "      <td>4660</td>\n",
       "      <td>0</td>\n",
       "      <td>0</td>\n",
       "      <td>2009-08-21</td>\n",
       "      <td>2016-08-30</td>\n",
       "      <td>2009-08-21</td>\n",
       "      <td>2015-08-31</td>\n",
       "      <td>189.95</td>\n",
       "      <td>...</td>\n",
       "      <td>f</td>\n",
       "      <td>0.00</td>\n",
       "      <td>16.38</td>\n",
       "      <td>16.38</td>\n",
       "      <td>1</td>\n",
       "      <td>18.89</td>\n",
       "      <td>6</td>\n",
       "      <td>kamkkxfxxuwbdslkwifmmcsiusiuosws</td>\n",
       "      <td>13.800</td>\n",
       "      <td>0</td>\n",
       "    </tr>\n",
       "    <tr>\n",
       "      <th>2</th>\n",
       "      <td>764c75f661154dac3a6c254cd082ea7d</td>\n",
       "      <td>foosdfpfkusacimwkcsosbicdxkicaua</td>\n",
       "      <td>544</td>\n",
       "      <td>0</td>\n",
       "      <td>0</td>\n",
       "      <td>2010-04-16</td>\n",
       "      <td>2016-04-16</td>\n",
       "      <td>2010-04-16</td>\n",
       "      <td>2015-04-17</td>\n",
       "      <td>47.96</td>\n",
       "      <td>...</td>\n",
       "      <td>f</td>\n",
       "      <td>0.00</td>\n",
       "      <td>28.60</td>\n",
       "      <td>28.60</td>\n",
       "      <td>1</td>\n",
       "      <td>6.60</td>\n",
       "      <td>6</td>\n",
       "      <td>kamkkxfxxuwbdslkwifmmcsiusiuosws</td>\n",
       "      <td>13.856</td>\n",
       "      <td>0</td>\n",
       "    </tr>\n",
       "    <tr>\n",
       "      <th>3</th>\n",
       "      <td>bba03439a292a1e166f80264c16191cb</td>\n",
       "      <td>lmkebamcaaclubfxadlmueccxoimlema</td>\n",
       "      <td>1584</td>\n",
       "      <td>0</td>\n",
       "      <td>0</td>\n",
       "      <td>2010-03-30</td>\n",
       "      <td>2016-03-30</td>\n",
       "      <td>2010-03-30</td>\n",
       "      <td>2015-03-31</td>\n",
       "      <td>240.04</td>\n",
       "      <td>...</td>\n",
       "      <td>f</td>\n",
       "      <td>0.00</td>\n",
       "      <td>30.22</td>\n",
       "      <td>30.22</td>\n",
       "      <td>1</td>\n",
       "      <td>25.46</td>\n",
       "      <td>6</td>\n",
       "      <td>kamkkxfxxuwbdslkwifmmcsiusiuosws</td>\n",
       "      <td>13.200</td>\n",
       "      <td>0</td>\n",
       "    </tr>\n",
       "    <tr>\n",
       "      <th>4</th>\n",
       "      <td>149d57cf92fc41cf94415803a877cb4b</td>\n",
       "      <td>MISSING</td>\n",
       "      <td>4425</td>\n",
       "      <td>0</td>\n",
       "      <td>526</td>\n",
       "      <td>2010-01-13</td>\n",
       "      <td>2016-03-07</td>\n",
       "      <td>2010-01-13</td>\n",
       "      <td>2015-03-09</td>\n",
       "      <td>445.75</td>\n",
       "      <td>...</td>\n",
       "      <td>f</td>\n",
       "      <td>52.32</td>\n",
       "      <td>44.91</td>\n",
       "      <td>44.91</td>\n",
       "      <td>1</td>\n",
       "      <td>47.98</td>\n",
       "      <td>6</td>\n",
       "      <td>kamkkxfxxuwbdslkwifmmcsiusiuosws</td>\n",
       "      <td>19.800</td>\n",
       "      <td>0</td>\n",
       "    </tr>\n",
       "  </tbody>\n",
       "</table>\n",
       "<p>5 rows × 26 columns</p>\n",
       "</div>"
      ],
      "text/plain": [
       "                                 id                     channel_sales  \\\n",
       "0  24011ae4ebbe3035111d65fa7c15bc57  foosdfpfkusacimwkcsosbicdxkicaua   \n",
       "1  d29c2c54acc38ff3c0614d0a653813dd                           MISSING   \n",
       "2  764c75f661154dac3a6c254cd082ea7d  foosdfpfkusacimwkcsosbicdxkicaua   \n",
       "3  bba03439a292a1e166f80264c16191cb  lmkebamcaaclubfxadlmueccxoimlema   \n",
       "4  149d57cf92fc41cf94415803a877cb4b                           MISSING   \n",
       "\n",
       "   cons_12m  cons_gas_12m  cons_last_month  date_activ    date_end  \\\n",
       "0         0         54946                0  2013-06-15  2016-06-15   \n",
       "1      4660             0                0  2009-08-21  2016-08-30   \n",
       "2       544             0                0  2010-04-16  2016-04-16   \n",
       "3      1584             0                0  2010-03-30  2016-03-30   \n",
       "4      4425             0              526  2010-01-13  2016-03-07   \n",
       "\n",
       "  date_modif_prod date_renewal  forecast_cons_12m  ...  has_gas  imp_cons  \\\n",
       "0      2015-11-01   2015-06-23               0.00  ...        t      0.00   \n",
       "1      2009-08-21   2015-08-31             189.95  ...        f      0.00   \n",
       "2      2010-04-16   2015-04-17              47.96  ...        f      0.00   \n",
       "3      2010-03-30   2015-03-31             240.04  ...        f      0.00   \n",
       "4      2010-01-13   2015-03-09             445.75  ...        f     52.32   \n",
       "\n",
       "   margin_gross_pow_ele  margin_net_pow_ele  nb_prod_act  net_margin  \\\n",
       "0                 25.44               25.44            2      678.99   \n",
       "1                 16.38               16.38            1       18.89   \n",
       "2                 28.60               28.60            1        6.60   \n",
       "3                 30.22               30.22            1       25.46   \n",
       "4                 44.91               44.91            1       47.98   \n",
       "\n",
       "  num_years_antig                         origin_up  pow_max  churn  \n",
       "0               3  lxidpiddsbxsbosboudacockeimpuepw   43.648      1  \n",
       "1               6  kamkkxfxxuwbdslkwifmmcsiusiuosws   13.800      0  \n",
       "2               6  kamkkxfxxuwbdslkwifmmcsiusiuosws   13.856      0  \n",
       "3               6  kamkkxfxxuwbdslkwifmmcsiusiuosws   13.200      0  \n",
       "4               6  kamkkxfxxuwbdslkwifmmcsiusiuosws   19.800      0  \n",
       "\n",
       "[5 rows x 26 columns]"
      ]
     },
     "execution_count": 3,
     "metadata": {},
     "output_type": "execute_result"
    }
   ],
   "source": [
    "c_data.head()"
   ]
  },
  {
   "cell_type": "code",
   "execution_count": 4,
   "metadata": {},
   "outputs": [
    {
     "data": {
      "text/plain": [
       "Index(['id', 'channel_sales', 'cons_12m', 'cons_gas_12m', 'cons_last_month',\n",
       "       'date_activ', 'date_end', 'date_modif_prod', 'date_renewal',\n",
       "       'forecast_cons_12m', 'forecast_cons_year', 'forecast_discount_energy',\n",
       "       'forecast_meter_rent_12m', 'forecast_price_energy_off_peak',\n",
       "       'forecast_price_energy_peak', 'forecast_price_pow_off_peak', 'has_gas',\n",
       "       'imp_cons', 'margin_gross_pow_ele', 'margin_net_pow_ele', 'nb_prod_act',\n",
       "       'net_margin', 'num_years_antig', 'origin_up', 'pow_max', 'churn'],\n",
       "      dtype='object')"
      ]
     },
     "execution_count": 4,
     "metadata": {},
     "output_type": "execute_result"
    }
   ],
   "source": [
    "c_data.columns"
   ]
  },
  {
   "cell_type": "code",
   "execution_count": 5,
   "metadata": {},
   "outputs": [
    {
     "name": "stdout",
     "output_type": "stream",
     "text": [
      "<class 'pandas.core.frame.DataFrame'>\n",
      "RangeIndex: 14606 entries, 0 to 14605\n",
      "Data columns (total 26 columns):\n",
      " #   Column                          Non-Null Count  Dtype  \n",
      "---  ------                          --------------  -----  \n",
      " 0   id                              14606 non-null  object \n",
      " 1   channel_sales                   14606 non-null  object \n",
      " 2   cons_12m                        14606 non-null  int64  \n",
      " 3   cons_gas_12m                    14606 non-null  int64  \n",
      " 4   cons_last_month                 14606 non-null  int64  \n",
      " 5   date_activ                      14606 non-null  object \n",
      " 6   date_end                        14606 non-null  object \n",
      " 7   date_modif_prod                 14606 non-null  object \n",
      " 8   date_renewal                    14606 non-null  object \n",
      " 9   forecast_cons_12m               14606 non-null  float64\n",
      " 10  forecast_cons_year              14606 non-null  int64  \n",
      " 11  forecast_discount_energy        14606 non-null  float64\n",
      " 12  forecast_meter_rent_12m         14606 non-null  float64\n",
      " 13  forecast_price_energy_off_peak  14606 non-null  float64\n",
      " 14  forecast_price_energy_peak      14606 non-null  float64\n",
      " 15  forecast_price_pow_off_peak     14606 non-null  float64\n",
      " 16  has_gas                         14606 non-null  object \n",
      " 17  imp_cons                        14606 non-null  float64\n",
      " 18  margin_gross_pow_ele            14606 non-null  float64\n",
      " 19  margin_net_pow_ele              14606 non-null  float64\n",
      " 20  nb_prod_act                     14606 non-null  int64  \n",
      " 21  net_margin                      14606 non-null  float64\n",
      " 22  num_years_antig                 14606 non-null  int64  \n",
      " 23  origin_up                       14606 non-null  object \n",
      " 24  pow_max                         14606 non-null  float64\n",
      " 25  churn                           14606 non-null  int64  \n",
      "dtypes: float64(11), int64(7), object(8)\n",
      "memory usage: 2.9+ MB\n"
     ]
    }
   ],
   "source": [
    "c_data.info()"
   ]
  },
  {
   "cell_type": "code",
   "execution_count": 6,
   "metadata": {},
   "outputs": [
    {
     "data": {
      "text/plain": [
       "(14606, 26)"
      ]
     },
     "execution_count": 6,
     "metadata": {},
     "output_type": "execute_result"
    }
   ],
   "source": [
    "c_data.shape"
   ]
  },
  {
   "cell_type": "code",
   "execution_count": 7,
   "metadata": {},
   "outputs": [
    {
     "data": {
      "text/plain": [
       "id                                0\n",
       "channel_sales                     0\n",
       "cons_12m                          0\n",
       "cons_gas_12m                      0\n",
       "cons_last_month                   0\n",
       "date_activ                        0\n",
       "date_end                          0\n",
       "date_modif_prod                   0\n",
       "date_renewal                      0\n",
       "forecast_cons_12m                 0\n",
       "forecast_cons_year                0\n",
       "forecast_discount_energy          0\n",
       "forecast_meter_rent_12m           0\n",
       "forecast_price_energy_off_peak    0\n",
       "forecast_price_energy_peak        0\n",
       "forecast_price_pow_off_peak       0\n",
       "has_gas                           0\n",
       "imp_cons                          0\n",
       "margin_gross_pow_ele              0\n",
       "margin_net_pow_ele                0\n",
       "nb_prod_act                       0\n",
       "net_margin                        0\n",
       "num_years_antig                   0\n",
       "origin_up                         0\n",
       "pow_max                           0\n",
       "churn                             0\n",
       "dtype: int64"
      ]
     },
     "execution_count": 7,
     "metadata": {},
     "output_type": "execute_result"
    }
   ],
   "source": [
    "#Missing values in client data set\n",
    "c_data.isnull().sum()"
   ]
  },
  {
   "cell_type": "markdown",
   "metadata": {},
   "source": [
    "There are no missing values in the c_data."
   ]
  },
  {
   "cell_type": "code",
   "execution_count": 8,
   "metadata": {},
   "outputs": [
    {
     "data": {
      "text/html": [
       "<div>\n",
       "<style scoped>\n",
       "    .dataframe tbody tr th:only-of-type {\n",
       "        vertical-align: middle;\n",
       "    }\n",
       "\n",
       "    .dataframe tbody tr th {\n",
       "        vertical-align: top;\n",
       "    }\n",
       "\n",
       "    .dataframe thead th {\n",
       "        text-align: right;\n",
       "    }\n",
       "</style>\n",
       "<table border=\"1\" class=\"dataframe\">\n",
       "  <thead>\n",
       "    <tr style=\"text-align: right;\">\n",
       "      <th></th>\n",
       "      <th>id</th>\n",
       "      <th>price_date</th>\n",
       "      <th>price_off_peak_var</th>\n",
       "      <th>price_peak_var</th>\n",
       "      <th>price_mid_peak_var</th>\n",
       "      <th>price_off_peak_fix</th>\n",
       "      <th>price_peak_fix</th>\n",
       "      <th>price_mid_peak_fix</th>\n",
       "    </tr>\n",
       "  </thead>\n",
       "  <tbody>\n",
       "    <tr>\n",
       "      <th>0</th>\n",
       "      <td>038af19179925da21a25619c5a24b745</td>\n",
       "      <td>2015-01-01</td>\n",
       "      <td>0.151367</td>\n",
       "      <td>0.0</td>\n",
       "      <td>0.0</td>\n",
       "      <td>44.266931</td>\n",
       "      <td>0.0</td>\n",
       "      <td>0.0</td>\n",
       "    </tr>\n",
       "    <tr>\n",
       "      <th>1</th>\n",
       "      <td>038af19179925da21a25619c5a24b745</td>\n",
       "      <td>2015-02-01</td>\n",
       "      <td>0.151367</td>\n",
       "      <td>0.0</td>\n",
       "      <td>0.0</td>\n",
       "      <td>44.266931</td>\n",
       "      <td>0.0</td>\n",
       "      <td>0.0</td>\n",
       "    </tr>\n",
       "    <tr>\n",
       "      <th>2</th>\n",
       "      <td>038af19179925da21a25619c5a24b745</td>\n",
       "      <td>2015-03-01</td>\n",
       "      <td>0.151367</td>\n",
       "      <td>0.0</td>\n",
       "      <td>0.0</td>\n",
       "      <td>44.266931</td>\n",
       "      <td>0.0</td>\n",
       "      <td>0.0</td>\n",
       "    </tr>\n",
       "    <tr>\n",
       "      <th>3</th>\n",
       "      <td>038af19179925da21a25619c5a24b745</td>\n",
       "      <td>2015-04-01</td>\n",
       "      <td>0.149626</td>\n",
       "      <td>0.0</td>\n",
       "      <td>0.0</td>\n",
       "      <td>44.266931</td>\n",
       "      <td>0.0</td>\n",
       "      <td>0.0</td>\n",
       "    </tr>\n",
       "    <tr>\n",
       "      <th>4</th>\n",
       "      <td>038af19179925da21a25619c5a24b745</td>\n",
       "      <td>2015-05-01</td>\n",
       "      <td>0.149626</td>\n",
       "      <td>0.0</td>\n",
       "      <td>0.0</td>\n",
       "      <td>44.266931</td>\n",
       "      <td>0.0</td>\n",
       "      <td>0.0</td>\n",
       "    </tr>\n",
       "  </tbody>\n",
       "</table>\n",
       "</div>"
      ],
      "text/plain": [
       "                                 id  price_date  price_off_peak_var  \\\n",
       "0  038af19179925da21a25619c5a24b745  2015-01-01            0.151367   \n",
       "1  038af19179925da21a25619c5a24b745  2015-02-01            0.151367   \n",
       "2  038af19179925da21a25619c5a24b745  2015-03-01            0.151367   \n",
       "3  038af19179925da21a25619c5a24b745  2015-04-01            0.149626   \n",
       "4  038af19179925da21a25619c5a24b745  2015-05-01            0.149626   \n",
       "\n",
       "   price_peak_var  price_mid_peak_var  price_off_peak_fix  price_peak_fix  \\\n",
       "0             0.0                 0.0           44.266931             0.0   \n",
       "1             0.0                 0.0           44.266931             0.0   \n",
       "2             0.0                 0.0           44.266931             0.0   \n",
       "3             0.0                 0.0           44.266931             0.0   \n",
       "4             0.0                 0.0           44.266931             0.0   \n",
       "\n",
       "   price_mid_peak_fix  \n",
       "0                 0.0  \n",
       "1                 0.0  \n",
       "2                 0.0  \n",
       "3                 0.0  \n",
       "4                 0.0  "
      ]
     },
     "execution_count": 8,
     "metadata": {},
     "output_type": "execute_result"
    }
   ],
   "source": [
    "p_data.head()"
   ]
  },
  {
   "cell_type": "code",
   "execution_count": 9,
   "metadata": {},
   "outputs": [
    {
     "data": {
      "text/plain": [
       "(193002, 8)"
      ]
     },
     "execution_count": 9,
     "metadata": {},
     "output_type": "execute_result"
    }
   ],
   "source": [
    "p_data.shape"
   ]
  },
  {
   "cell_type": "code",
   "execution_count": 10,
   "metadata": {},
   "outputs": [
    {
     "name": "stdout",
     "output_type": "stream",
     "text": [
      "<class 'pandas.core.frame.DataFrame'>\n",
      "RangeIndex: 193002 entries, 0 to 193001\n",
      "Data columns (total 8 columns):\n",
      " #   Column              Non-Null Count   Dtype  \n",
      "---  ------              --------------   -----  \n",
      " 0   id                  193002 non-null  object \n",
      " 1   price_date          193002 non-null  object \n",
      " 2   price_off_peak_var  193002 non-null  float64\n",
      " 3   price_peak_var      193002 non-null  float64\n",
      " 4   price_mid_peak_var  193002 non-null  float64\n",
      " 5   price_off_peak_fix  193002 non-null  float64\n",
      " 6   price_peak_fix      193002 non-null  float64\n",
      " 7   price_mid_peak_fix  193002 non-null  float64\n",
      "dtypes: float64(6), object(2)\n",
      "memory usage: 11.8+ MB\n"
     ]
    }
   ],
   "source": [
    "p_data.info()"
   ]
  },
  {
   "cell_type": "code",
   "execution_count": 11,
   "metadata": {},
   "outputs": [
    {
     "data": {
      "text/plain": [
       "id                    0\n",
       "price_date            0\n",
       "price_off_peak_var    0\n",
       "price_peak_var        0\n",
       "price_mid_peak_var    0\n",
       "price_off_peak_fix    0\n",
       "price_peak_fix        0\n",
       "price_mid_peak_fix    0\n",
       "dtype: int64"
      ]
     },
     "execution_count": 11,
     "metadata": {},
     "output_type": "execute_result"
    }
   ],
   "source": [
    "#Missing Values in p_dataset.\n",
    "p_data.isnull().sum()"
   ]
  },
  {
   "cell_type": "markdown",
   "metadata": {},
   "source": [
    "No missing values is found in the p_data."
   ]
  },
  {
   "cell_type": "code",
   "execution_count": 12,
   "metadata": {},
   "outputs": [
    {
     "data": {
      "text/html": [
       "<div>\n",
       "<style scoped>\n",
       "    .dataframe tbody tr th:only-of-type {\n",
       "        vertical-align: middle;\n",
       "    }\n",
       "\n",
       "    .dataframe tbody tr th {\n",
       "        vertical-align: top;\n",
       "    }\n",
       "\n",
       "    .dataframe thead th {\n",
       "        text-align: right;\n",
       "    }\n",
       "</style>\n",
       "<table border=\"1\" class=\"dataframe\">\n",
       "  <thead>\n",
       "    <tr style=\"text-align: right;\">\n",
       "      <th></th>\n",
       "      <th>price_off_peak_var</th>\n",
       "      <th>price_peak_var</th>\n",
       "      <th>price_mid_peak_var</th>\n",
       "      <th>price_off_peak_fix</th>\n",
       "      <th>price_peak_fix</th>\n",
       "      <th>price_mid_peak_fix</th>\n",
       "    </tr>\n",
       "  </thead>\n",
       "  <tbody>\n",
       "    <tr>\n",
       "      <th>count</th>\n",
       "      <td>193002.000000</td>\n",
       "      <td>193002.000000</td>\n",
       "      <td>193002.000000</td>\n",
       "      <td>193002.000000</td>\n",
       "      <td>193002.000000</td>\n",
       "      <td>193002.000000</td>\n",
       "    </tr>\n",
       "    <tr>\n",
       "      <th>mean</th>\n",
       "      <td>0.141027</td>\n",
       "      <td>0.054630</td>\n",
       "      <td>0.030496</td>\n",
       "      <td>43.334477</td>\n",
       "      <td>10.622875</td>\n",
       "      <td>6.409984</td>\n",
       "    </tr>\n",
       "    <tr>\n",
       "      <th>std</th>\n",
       "      <td>0.025032</td>\n",
       "      <td>0.049924</td>\n",
       "      <td>0.036298</td>\n",
       "      <td>5.410297</td>\n",
       "      <td>12.841895</td>\n",
       "      <td>7.773592</td>\n",
       "    </tr>\n",
       "    <tr>\n",
       "      <th>min</th>\n",
       "      <td>0.000000</td>\n",
       "      <td>0.000000</td>\n",
       "      <td>0.000000</td>\n",
       "      <td>0.000000</td>\n",
       "      <td>0.000000</td>\n",
       "      <td>0.000000</td>\n",
       "    </tr>\n",
       "    <tr>\n",
       "      <th>25%</th>\n",
       "      <td>0.125976</td>\n",
       "      <td>0.000000</td>\n",
       "      <td>0.000000</td>\n",
       "      <td>40.728885</td>\n",
       "      <td>0.000000</td>\n",
       "      <td>0.000000</td>\n",
       "    </tr>\n",
       "    <tr>\n",
       "      <th>50%</th>\n",
       "      <td>0.146033</td>\n",
       "      <td>0.085483</td>\n",
       "      <td>0.000000</td>\n",
       "      <td>44.266930</td>\n",
       "      <td>0.000000</td>\n",
       "      <td>0.000000</td>\n",
       "    </tr>\n",
       "    <tr>\n",
       "      <th>75%</th>\n",
       "      <td>0.151635</td>\n",
       "      <td>0.101673</td>\n",
       "      <td>0.072558</td>\n",
       "      <td>44.444710</td>\n",
       "      <td>24.339581</td>\n",
       "      <td>16.226389</td>\n",
       "    </tr>\n",
       "    <tr>\n",
       "      <th>max</th>\n",
       "      <td>0.280700</td>\n",
       "      <td>0.229788</td>\n",
       "      <td>0.114102</td>\n",
       "      <td>59.444710</td>\n",
       "      <td>36.490692</td>\n",
       "      <td>17.458221</td>\n",
       "    </tr>\n",
       "  </tbody>\n",
       "</table>\n",
       "</div>"
      ],
      "text/plain": [
       "       price_off_peak_var  price_peak_var  price_mid_peak_var  \\\n",
       "count       193002.000000   193002.000000       193002.000000   \n",
       "mean             0.141027        0.054630            0.030496   \n",
       "std              0.025032        0.049924            0.036298   \n",
       "min              0.000000        0.000000            0.000000   \n",
       "25%              0.125976        0.000000            0.000000   \n",
       "50%              0.146033        0.085483            0.000000   \n",
       "75%              0.151635        0.101673            0.072558   \n",
       "max              0.280700        0.229788            0.114102   \n",
       "\n",
       "       price_off_peak_fix  price_peak_fix  price_mid_peak_fix  \n",
       "count       193002.000000   193002.000000       193002.000000  \n",
       "mean            43.334477       10.622875            6.409984  \n",
       "std              5.410297       12.841895            7.773592  \n",
       "min              0.000000        0.000000            0.000000  \n",
       "25%             40.728885        0.000000            0.000000  \n",
       "50%             44.266930        0.000000            0.000000  \n",
       "75%             44.444710       24.339581           16.226389  \n",
       "max             59.444710       36.490692           17.458221  "
      ]
     },
     "execution_count": 12,
     "metadata": {},
     "output_type": "execute_result"
    }
   ],
   "source": [
    "p_data.describe()"
   ]
  },
  {
   "cell_type": "markdown",
   "metadata": {},
   "source": [
    "Based on the statistics data we can conclude as follows :\n",
    "\n",
    "The average price of energy for the 1st period is $0.14\n",
    "\n",
    "The average price of energy for the 2st period is $0.05\n",
    "\n",
    "The average price of energy for the 3st period is $0.03\n",
    "\n",
    "The average price of power for the 1st period is $43.33\n",
    "\n",
    "The average price of power for the 2st period is $10.62\n",
    "\n",
    "The average price of power for the 3st period is $6.40\n",
    "\n"
   ]
  },
  {
   "cell_type": "code",
   "execution_count": 13,
   "metadata": {},
   "outputs": [
    {
     "data": {
      "text/html": [
       "<div>\n",
       "<style scoped>\n",
       "    .dataframe tbody tr th:only-of-type {\n",
       "        vertical-align: middle;\n",
       "    }\n",
       "\n",
       "    .dataframe tbody tr th {\n",
       "        vertical-align: top;\n",
       "    }\n",
       "\n",
       "    .dataframe thead th {\n",
       "        text-align: right;\n",
       "    }\n",
       "</style>\n",
       "<table border=\"1\" class=\"dataframe\">\n",
       "  <thead>\n",
       "    <tr style=\"text-align: right;\">\n",
       "      <th></th>\n",
       "      <th>id</th>\n",
       "      <th>price_date</th>\n",
       "      <th>price_off_peak_var</th>\n",
       "      <th>price_peak_var</th>\n",
       "      <th>price_mid_peak_var</th>\n",
       "      <th>price_off_peak_fix</th>\n",
       "      <th>price_peak_fix</th>\n",
       "      <th>price_mid_peak_fix</th>\n",
       "    </tr>\n",
       "  </thead>\n",
       "  <tbody>\n",
       "    <tr>\n",
       "      <th>0</th>\n",
       "      <td>038af19179925da21a25619c5a24b745</td>\n",
       "      <td>2015-01-01</td>\n",
       "      <td>0.151367</td>\n",
       "      <td>0.000000</td>\n",
       "      <td>0.000000</td>\n",
       "      <td>44.266931</td>\n",
       "      <td>0.00000</td>\n",
       "      <td>0.000000</td>\n",
       "    </tr>\n",
       "    <tr>\n",
       "      <th>1</th>\n",
       "      <td>038af19179925da21a25619c5a24b745</td>\n",
       "      <td>2015-02-01</td>\n",
       "      <td>0.151367</td>\n",
       "      <td>0.000000</td>\n",
       "      <td>0.000000</td>\n",
       "      <td>44.266931</td>\n",
       "      <td>0.00000</td>\n",
       "      <td>0.000000</td>\n",
       "    </tr>\n",
       "    <tr>\n",
       "      <th>2</th>\n",
       "      <td>038af19179925da21a25619c5a24b745</td>\n",
       "      <td>2015-03-01</td>\n",
       "      <td>0.151367</td>\n",
       "      <td>0.000000</td>\n",
       "      <td>0.000000</td>\n",
       "      <td>44.266931</td>\n",
       "      <td>0.00000</td>\n",
       "      <td>0.000000</td>\n",
       "    </tr>\n",
       "    <tr>\n",
       "      <th>3</th>\n",
       "      <td>038af19179925da21a25619c5a24b745</td>\n",
       "      <td>2015-04-01</td>\n",
       "      <td>0.149626</td>\n",
       "      <td>0.000000</td>\n",
       "      <td>0.000000</td>\n",
       "      <td>44.266931</td>\n",
       "      <td>0.00000</td>\n",
       "      <td>0.000000</td>\n",
       "    </tr>\n",
       "    <tr>\n",
       "      <th>4</th>\n",
       "      <td>038af19179925da21a25619c5a24b745</td>\n",
       "      <td>2015-05-01</td>\n",
       "      <td>0.149626</td>\n",
       "      <td>0.000000</td>\n",
       "      <td>0.000000</td>\n",
       "      <td>44.266931</td>\n",
       "      <td>0.00000</td>\n",
       "      <td>0.000000</td>\n",
       "    </tr>\n",
       "    <tr>\n",
       "      <th>...</th>\n",
       "      <td>...</td>\n",
       "      <td>...</td>\n",
       "      <td>...</td>\n",
       "      <td>...</td>\n",
       "      <td>...</td>\n",
       "      <td>...</td>\n",
       "      <td>...</td>\n",
       "      <td>...</td>\n",
       "    </tr>\n",
       "    <tr>\n",
       "      <th>192997</th>\n",
       "      <td>16f51cdc2baa19af0b940ee1b3dd17d5</td>\n",
       "      <td>2015-08-01</td>\n",
       "      <td>0.119916</td>\n",
       "      <td>0.102232</td>\n",
       "      <td>0.076257</td>\n",
       "      <td>40.728885</td>\n",
       "      <td>24.43733</td>\n",
       "      <td>16.291555</td>\n",
       "    </tr>\n",
       "    <tr>\n",
       "      <th>192998</th>\n",
       "      <td>16f51cdc2baa19af0b940ee1b3dd17d5</td>\n",
       "      <td>2015-09-01</td>\n",
       "      <td>0.119916</td>\n",
       "      <td>0.102232</td>\n",
       "      <td>0.076257</td>\n",
       "      <td>40.728885</td>\n",
       "      <td>24.43733</td>\n",
       "      <td>16.291555</td>\n",
       "    </tr>\n",
       "    <tr>\n",
       "      <th>192999</th>\n",
       "      <td>16f51cdc2baa19af0b940ee1b3dd17d5</td>\n",
       "      <td>2015-10-01</td>\n",
       "      <td>0.119916</td>\n",
       "      <td>0.102232</td>\n",
       "      <td>0.076257</td>\n",
       "      <td>40.728885</td>\n",
       "      <td>24.43733</td>\n",
       "      <td>16.291555</td>\n",
       "    </tr>\n",
       "    <tr>\n",
       "      <th>193000</th>\n",
       "      <td>16f51cdc2baa19af0b940ee1b3dd17d5</td>\n",
       "      <td>2015-11-01</td>\n",
       "      <td>0.119916</td>\n",
       "      <td>0.102232</td>\n",
       "      <td>0.076257</td>\n",
       "      <td>40.728885</td>\n",
       "      <td>24.43733</td>\n",
       "      <td>16.291555</td>\n",
       "    </tr>\n",
       "    <tr>\n",
       "      <th>193001</th>\n",
       "      <td>16f51cdc2baa19af0b940ee1b3dd17d5</td>\n",
       "      <td>2015-12-01</td>\n",
       "      <td>0.119916</td>\n",
       "      <td>0.102232</td>\n",
       "      <td>0.076257</td>\n",
       "      <td>40.728885</td>\n",
       "      <td>24.43733</td>\n",
       "      <td>16.291555</td>\n",
       "    </tr>\n",
       "  </tbody>\n",
       "</table>\n",
       "<p>193002 rows × 8 columns</p>\n",
       "</div>"
      ],
      "text/plain": [
       "                                      id  price_date  price_off_peak_var  \\\n",
       "0       038af19179925da21a25619c5a24b745  2015-01-01            0.151367   \n",
       "1       038af19179925da21a25619c5a24b745  2015-02-01            0.151367   \n",
       "2       038af19179925da21a25619c5a24b745  2015-03-01            0.151367   \n",
       "3       038af19179925da21a25619c5a24b745  2015-04-01            0.149626   \n",
       "4       038af19179925da21a25619c5a24b745  2015-05-01            0.149626   \n",
       "...                                  ...         ...                 ...   \n",
       "192997  16f51cdc2baa19af0b940ee1b3dd17d5  2015-08-01            0.119916   \n",
       "192998  16f51cdc2baa19af0b940ee1b3dd17d5  2015-09-01            0.119916   \n",
       "192999  16f51cdc2baa19af0b940ee1b3dd17d5  2015-10-01            0.119916   \n",
       "193000  16f51cdc2baa19af0b940ee1b3dd17d5  2015-11-01            0.119916   \n",
       "193001  16f51cdc2baa19af0b940ee1b3dd17d5  2015-12-01            0.119916   \n",
       "\n",
       "        price_peak_var  price_mid_peak_var  price_off_peak_fix  \\\n",
       "0             0.000000            0.000000           44.266931   \n",
       "1             0.000000            0.000000           44.266931   \n",
       "2             0.000000            0.000000           44.266931   \n",
       "3             0.000000            0.000000           44.266931   \n",
       "4             0.000000            0.000000           44.266931   \n",
       "...                ...                 ...                 ...   \n",
       "192997        0.102232            0.076257           40.728885   \n",
       "192998        0.102232            0.076257           40.728885   \n",
       "192999        0.102232            0.076257           40.728885   \n",
       "193000        0.102232            0.076257           40.728885   \n",
       "193001        0.102232            0.076257           40.728885   \n",
       "\n",
       "        price_peak_fix  price_mid_peak_fix  \n",
       "0              0.00000            0.000000  \n",
       "1              0.00000            0.000000  \n",
       "2              0.00000            0.000000  \n",
       "3              0.00000            0.000000  \n",
       "4              0.00000            0.000000  \n",
       "...                ...                 ...  \n",
       "192997        24.43733           16.291555  \n",
       "192998        24.43733           16.291555  \n",
       "192999        24.43733           16.291555  \n",
       "193000        24.43733           16.291555  \n",
       "193001        24.43733           16.291555  \n",
       "\n",
       "[193002 rows x 8 columns]"
      ]
     },
     "execution_count": 13,
     "metadata": {},
     "output_type": "execute_result"
    }
   ],
   "source": [
    "#Duplicates\n",
    "p_data.drop_duplicates()"
   ]
  },
  {
   "cell_type": "code",
   "execution_count": 14,
   "metadata": {},
   "outputs": [],
   "source": [
    "#Converting Date feature of client data\n",
    "c_data[['date_activ','date_end','date_modif_prod','date_renewal']]=c_data[['date_activ','date_end','date_modif_prod','date_renewal']].apply(pd.to_datetime)\n"
   ]
  },
  {
   "cell_type": "code",
   "execution_count": 15,
   "metadata": {},
   "outputs": [],
   "source": [
    "#Converting Date feature of price data\n",
    "p_data[['price_date']]=p_data[['price_date']].apply(pd.to_datetime)"
   ]
  },
  {
   "cell_type": "code",
   "execution_count": 16,
   "metadata": {},
   "outputs": [
    {
     "name": "stdout",
     "output_type": "stream",
     "text": [
      "<class 'pandas.core.frame.DataFrame'>\n",
      "RangeIndex: 14606 entries, 0 to 14605\n",
      "Data columns (total 26 columns):\n",
      " #   Column                          Non-Null Count  Dtype         \n",
      "---  ------                          --------------  -----         \n",
      " 0   id                              14606 non-null  object        \n",
      " 1   channel_sales                   14606 non-null  object        \n",
      " 2   cons_12m                        14606 non-null  int64         \n",
      " 3   cons_gas_12m                    14606 non-null  int64         \n",
      " 4   cons_last_month                 14606 non-null  int64         \n",
      " 5   date_activ                      14606 non-null  datetime64[ns]\n",
      " 6   date_end                        14606 non-null  datetime64[ns]\n",
      " 7   date_modif_prod                 14606 non-null  datetime64[ns]\n",
      " 8   date_renewal                    14606 non-null  datetime64[ns]\n",
      " 9   forecast_cons_12m               14606 non-null  float64       \n",
      " 10  forecast_cons_year              14606 non-null  int64         \n",
      " 11  forecast_discount_energy        14606 non-null  float64       \n",
      " 12  forecast_meter_rent_12m         14606 non-null  float64       \n",
      " 13  forecast_price_energy_off_peak  14606 non-null  float64       \n",
      " 14  forecast_price_energy_peak      14606 non-null  float64       \n",
      " 15  forecast_price_pow_off_peak     14606 non-null  float64       \n",
      " 16  has_gas                         14606 non-null  object        \n",
      " 17  imp_cons                        14606 non-null  float64       \n",
      " 18  margin_gross_pow_ele            14606 non-null  float64       \n",
      " 19  margin_net_pow_ele              14606 non-null  float64       \n",
      " 20  nb_prod_act                     14606 non-null  int64         \n",
      " 21  net_margin                      14606 non-null  float64       \n",
      " 22  num_years_antig                 14606 non-null  int64         \n",
      " 23  origin_up                       14606 non-null  object        \n",
      " 24  pow_max                         14606 non-null  float64       \n",
      " 25  churn                           14606 non-null  int64         \n",
      "dtypes: datetime64[ns](4), float64(11), int64(7), object(4)\n",
      "memory usage: 2.9+ MB\n"
     ]
    }
   ],
   "source": [
    "c_data.info()"
   ]
  },
  {
   "cell_type": "code",
   "execution_count": 17,
   "metadata": {},
   "outputs": [
    {
     "data": {
      "image/png": "[encoded data removed]",
      "text/plain": [
       "<Figure size 1296x720 with 1 Axes>"
      ]
     },
     "metadata": {
      "needs_background": "light"
     },
     "output_type": "display_data"
    }
   ],
   "source": [
    "#Sales with Highest Churn Rate\n",
    "sales = c_data[[\"channel_sales\",\n",
    "               \"churn\", \"id\"]].groupby([\n",
    "    \"channel_sales\",\"churn\"])[\"id\"].count().unstack(level=1).sort_values(by=[1],ascending=False)[:5]\n",
    "sales_percentage = (sales.div(sales.sum(axis=1), axis=0)*100)\n",
    "sales.plot(kind=\"bar\",\n",
    " figsize=(18,10),\n",
    " stacked=True,\n",
    "rot=0,\n",
    " title= \"Top 5 sales channel with highest Churn Rate\")\n",
    "# Rename legend\n",
    "plt.legend([\"Retention\", \"Churn\"], loc=\"upper right\")\n",
    "# Labels\n",
    "plt.ylabel(\"No. of Consumers\")\n",
    "plt.xlabel(\"Channel_sales\")\n",
    "plt.show()\n"
   ]
  },
  {
   "cell_type": "code",
   "execution_count": 18,
   "metadata": {},
   "outputs": [
    {
     "data": {
      "image/png": "[encoded data removed]",
      "text/plain": [
       "<Figure size 720x720 with 1 Axes>"
      ]
     },
     "metadata": {
      "needs_background": "light"
     },
     "output_type": "display_data"
    }
   ],
   "source": [
    "cons_12m = c_data[[\"has_gas\",\n",
    "               \"churn\", \"id\"]].groupby([\n",
    "    \"has_gas\",\"churn\"])[\"id\"].count().unstack(level=1).sort_values(by=[1],ascending=False)\n",
    "cons_12m_percentage = (cons_12m.div(cons_12m.sum(axis=1), axis=0)*100)\n",
    "cons_12m.plot(kind=\"bar\",\n",
    " figsize=(10,10),\n",
    " stacked=True,\n",
    "rot=0,\n",
    " title= \"Churn Rate - Has Gas Connection VS No Gas Connection\")\n",
    "\n",
    "# Rename legend\n",
    "plt.legend([\"Retention\", \"Churn\"], loc=\"upper right\")\n",
    "# Labels\n",
    "plt.ylabel(\"No. of Consumers\")\n",
    "plt.xlabel(\"has_gas\")\n",
    "plt.show()"
   ]
  },
  {
   "cell_type": "code",
   "execution_count": 19,
   "metadata": {},
   "outputs": [
    {
     "data": {
      "text/plain": [
       "<AxesSubplot:xlabel='churn', ylabel='count'>"
      ]
     },
     "execution_count": 19,
     "metadata": {},
     "output_type": "execute_result"
    },
    {
     "data": {
      "image/png": "[encoded data removed]",
      "text/plain": [
       "<Figure size 720x432 with 1 Axes>"
      ]
     },
     "metadata": {
      "needs_background": "light"
     },
     "output_type": "display_data"
    }
   ],
   "source": [
    "plt.figure(figsize=(10,6))\n",
    "sns.countplot(x='churn',data=c_data)"
   ]
  },
  {
   "cell_type": "code",
   "execution_count": 20,
   "metadata": {},
   "outputs": [
    {
     "data": {
      "text/plain": [
       "<AxesSubplot:>"
      ]
     },
     "execution_count": 20,
     "metadata": {},
     "output_type": "execute_result"
    },
    {
     "data": {
      "image/png": "[encoded data removed]",
      "text/plain": [
       "<Figure size 936x504 with 2 Axes>"
      ]
     },
     "metadata": {
      "needs_background": "light"
     },
     "output_type": "display_data"
    }
   ],
   "source": [
    "corr=c_data.corr()\n",
    "plt.figure(figsize=(13,7))\n",
    "sns.heatmap(corr,cmap='RdYlGn',annot=True)"
   ]
  },
  {
   "cell_type": "code",
   "execution_count": 21,
   "metadata": {},
   "outputs": [],
   "source": [
    "c_data['contract_tenure']=c_data['date_end']-c_data['date_activ']\n",
    "c_data['contract_tenure']=c_data['contract_tenure'].apply(lambda x:x.days)"
   ]
  },
  {
   "cell_type": "code",
   "execution_count": 22,
   "metadata": {},
   "outputs": [],
   "source": [
    "c_data['contract_tenure_year']=c_data['contract_tenure'].apply(lambda x:int(np.round(x/365)))"
   ]
  },
  {
   "cell_type": "code",
   "execution_count": 23,
   "metadata": {},
   "outputs": [
    {
     "data": {
      "image/png": "[encoded data removed]",
      "text/plain": [
       "<Figure size 1296x720 with 1 Axes>"
      ]
     },
     "metadata": {
      "needs_background": "light"
     },
     "output_type": "display_data"
    }
   ],
   "source": [
    "tenure = c_data[[\"contract_tenure_year\", \"churn\", \"id\"]].groupby([\"contract_tenure_year\",\n",
    "                                                                 \"churn\"])[\"id\"].count().unstack(level=1)\n",
    "tenure_percentage = (tenure.div(tenure.sum(axis=1), axis=0)*100)\n",
    "tenure.plot(kind=\"bar\",\n",
    " figsize=(18,10),\n",
    " stacked=True,\n",
    "rot=0,\n",
    " title= \"Tenure VS Churn Rate\")\n",
    "\n",
    "# Rename legend\n",
    "plt.legend([\"Retention\", \"Churn\"], loc=\"upper right\")\n",
    "# Labels\n",
    "plt.ylabel(\"No. of Consumers\")\n",
    "plt.xlabel(\"No. of years\")\n",
    "plt.show()"
   ]
  },
  {
   "cell_type": "markdown",
   "metadata": {},
   "source": [
    "We can clearly see that churn is very low for companies which joined recently or that have made the contract a long time ago. With the higher number ofchurners within the 3-7 years of tenure."
   ]
  },
  {
   "cell_type": "markdown",
   "metadata": {},
   "source": [
    "FEATURE ENGINEERNING"
   ]
  },
  {
   "cell_type": "code",
   "execution_count": 24,
   "metadata": {},
   "outputs": [
    {
     "name": "stdout",
     "output_type": "stream",
     "text": [
      "<class 'pandas.core.frame.DataFrame'>\n",
      "RangeIndex: 14606 entries, 0 to 14605\n",
      "Data columns (total 28 columns):\n",
      " #   Column                          Non-Null Count  Dtype         \n",
      "---  ------                          --------------  -----         \n",
      " 0   id                              14606 non-null  object        \n",
      " 1   channel_sales                   14606 non-null  object        \n",
      " 2   cons_12m                        14606 non-null  int64         \n",
      " 3   cons_gas_12m                    14606 non-null  int64         \n",
      " 4   cons_last_month                 14606 non-null  int64         \n",
      " 5   date_activ                      14606 non-null  datetime64[ns]\n",
      " 6   date_end                        14606 non-null  datetime64[ns]\n",
      " 7   date_modif_prod                 14606 non-null  datetime64[ns]\n",
      " 8   date_renewal                    14606 non-null  datetime64[ns]\n",
      " 9   forecast_cons_12m               14606 non-null  float64       \n",
      " 10  forecast_cons_year              14606 non-null  int64         \n",
      " 11  forecast_discount_energy        14606 non-null  float64       \n",
      " 12  forecast_meter_rent_12m         14606 non-null  float64       \n",
      " 13  forecast_price_energy_off_peak  14606 non-null  float64       \n",
      " 14  forecast_price_energy_peak      14606 non-null  float64       \n",
      " 15  forecast_price_pow_off_peak     14606 non-null  float64       \n",
      " 16  has_gas                         14606 non-null  object        \n",
      " 17  imp_cons                        14606 non-null  float64       \n",
      " 18  margin_gross_pow_ele            14606 non-null  float64       \n",
      " 19  margin_net_pow_ele              14606 non-null  float64       \n",
      " 20  nb_prod_act                     14606 non-null  int64         \n",
      " 21  net_margin                      14606 non-null  float64       \n",
      " 22  num_years_antig                 14606 non-null  int64         \n",
      " 23  origin_up                       14606 non-null  object        \n",
      " 24  pow_max                         14606 non-null  float64       \n",
      " 25  churn                           14606 non-null  int64         \n",
      " 26  contract_tenure                 14606 non-null  int64         \n",
      " 27  contract_tenure_year            14606 non-null  int64         \n",
      "dtypes: datetime64[ns](4), float64(11), int64(9), object(4)\n",
      "memory usage: 3.1+ MB\n"
     ]
    }
   ],
   "source": [
    "c_data.info()"
   ]
  },
  {
   "cell_type": "code",
   "execution_count": 25,
   "metadata": {},
   "outputs": [],
   "source": [
    "c_data['has_gas']=c_data['has_gas'].replace(('t','f'),(0,1))"
   ]
  },
  {
   "cell_type": "code",
   "execution_count": 26,
   "metadata": {},
   "outputs": [
    {
     "data": {
      "text/plain": [
       "lxidpiddsbxsbosboudacockeimpuepw    7097\n",
       "kamkkxfxxuwbdslkwifmmcsiusiuosws    4294\n",
       "ldkssxwpmemidmecebumciepifcamkci    3148\n",
       "MISSING                               64\n",
       "usapbepcfoloekilkwsdiboslwaxobdp       2\n",
       "ewxeelcelemmiwuafmddpobolfuxioce       1\n",
       "Name: origin_up, dtype: int64"
      ]
     },
     "execution_count": 26,
     "metadata": {},
     "output_type": "execute_result"
    }
   ],
   "source": [
    "c_data['origin_up'].value_counts()"
   ]
  },
  {
   "cell_type": "code",
   "execution_count": 27,
   "metadata": {},
   "outputs": [],
   "source": [
    "c_data['origin_up']=c_data['origin_up'].replace(('lxidpiddsbxsbosboudacockeimpuepw','kamkkxfxxuwbdslkwifmmcsiusiuosws','ldkssxwpmemidmecebumciepifcamkci','MISSING','usapbepcfoloekilkwsdiboslwaxobdp','ewxeelcelemmiwuafmddpobolfuxioce'),(1,2,3,4,5,6))"
   ]
  },
  {
   "cell_type": "code",
   "execution_count": 28,
   "metadata": {},
   "outputs": [
    {
     "data": {
      "text/plain": [
       "foosdfpfkusacimwkcsosbicdxkicaua    6754\n",
       "MISSING                             3725\n",
       "lmkebamcaaclubfxadlmueccxoimlema    1843\n",
       "usilxuppasemubllopkaafesmlibmsdf    1375\n",
       "ewpakwlliwisiwduibdlfmalxowmwpci     893\n",
       "sddiedcslfslkckwlfkdpoeeailfpeds      11\n",
       "epumfxlbckeskwekxbiuasklxalciiuu       3\n",
       "fixdbufsefwooaasfcxdxadsiekoceaa       2\n",
       "Name: channel_sales, dtype: int64"
      ]
     },
     "execution_count": 28,
     "metadata": {},
     "output_type": "execute_result"
    }
   ],
   "source": [
    "c_data['channel_sales'].value_counts()"
   ]
  },
  {
   "cell_type": "code",
   "execution_count": 29,
   "metadata": {},
   "outputs": [],
   "source": [
    "c_data['channel_sales']=c_data['channel_sales'].replace(('foosdfpfkusacimwkcsosbicdxkicaua','MISSING','lmkebamcaaclubfxadlmueccxoimlema','usilxuppasemubllopkaafesmlibmsdf','ewpakwlliwisiwduibdlfmalxowmwpci','sddiedcslfslkckwlfkdpoeeailfpeds','epumfxlbckeskwekxbiuasklxalciiuu','fixdbufsefwooaasfcxdxadsiekoceaa'),(1,2,3,4,5,6,7,8))"
   ]
  },
  {
   "cell_type": "code",
   "execution_count": 30,
   "metadata": {},
   "outputs": [
    {
     "data": {
      "text/plain": [
       "(14606, 28)"
      ]
     },
     "execution_count": 30,
     "metadata": {},
     "output_type": "execute_result"
    }
   ],
   "source": [
    "c_data.shape\n"
   ]
  },
  {
   "cell_type": "code",
   "execution_count": 31,
   "metadata": {},
   "outputs": [
    {
     "data": {
      "text/plain": [
       "Index(['id', 'price_date', 'price_off_peak_var', 'price_peak_var',\n",
       "       'price_mid_peak_var', 'price_off_peak_fix', 'price_peak_fix',\n",
       "       'price_mid_peak_fix'],\n",
       "      dtype='object')"
      ]
     },
     "execution_count": 31,
     "metadata": {},
     "output_type": "execute_result"
    }
   ],
   "source": [
    "p_data.columns"
   ]
  },
  {
   "cell_type": "code",
   "execution_count": 32,
   "metadata": {},
   "outputs": [],
   "source": [
    "p_data['price_p1']=p_data['price_off_peak_var']+p_data['price_off_peak_fix']\n",
    "p_data['price_p2']=p_data['price_peak_var']+p_data['price_peak_fix']\n",
    "p_data['price_p3']=p_data['price_mid_peak_var']+p_data['price_mid_peak_fix']\n",
    "p_data['pp12']=p_data['price_p2']-p_data['price_p1']\n",
    "p_data['pp23']=p_data['price_p3']-p_data['price_p2']\n",
    "p_data['pp13']=p_data['price_p3']-p_data['price_p1']"
   ]
  },
  {
   "cell_type": "code",
   "execution_count": 33,
   "metadata": {},
   "outputs": [],
   "source": [
    "p_data.drop(['price_date', 'price_off_peak_var', 'price_peak_var',\n",
    "       'price_mid_peak_var', 'price_off_peak_fix', 'price_peak_fix',\n",
    "       'price_mid_peak_fix'],axis=1,inplace=True)"
   ]
  },
  {
   "cell_type": "code",
   "execution_count": 34,
   "metadata": {},
   "outputs": [
    {
     "data": {
      "text/html": [
       "<div>\n",
       "<style scoped>\n",
       "    .dataframe tbody tr th:only-of-type {\n",
       "        vertical-align: middle;\n",
       "    }\n",
       "\n",
       "    .dataframe tbody tr th {\n",
       "        vertical-align: top;\n",
       "    }\n",
       "\n",
       "    .dataframe thead th {\n",
       "        text-align: right;\n",
       "    }\n",
       "</style>\n",
       "<table border=\"1\" class=\"dataframe\">\n",
       "  <thead>\n",
       "    <tr style=\"text-align: right;\">\n",
       "      <th></th>\n",
       "      <th>id</th>\n",
       "      <th>price_p1</th>\n",
       "      <th>price_p2</th>\n",
       "      <th>price_p3</th>\n",
       "      <th>pp12</th>\n",
       "      <th>pp23</th>\n",
       "      <th>pp13</th>\n",
       "    </tr>\n",
       "  </thead>\n",
       "  <tbody>\n",
       "    <tr>\n",
       "      <th>0</th>\n",
       "      <td>038af19179925da21a25619c5a24b745</td>\n",
       "      <td>44.418298</td>\n",
       "      <td>0.0</td>\n",
       "      <td>0.0</td>\n",
       "      <td>-44.418298</td>\n",
       "      <td>0.0</td>\n",
       "      <td>-44.418298</td>\n",
       "    </tr>\n",
       "    <tr>\n",
       "      <th>1</th>\n",
       "      <td>038af19179925da21a25619c5a24b745</td>\n",
       "      <td>44.418298</td>\n",
       "      <td>0.0</td>\n",
       "      <td>0.0</td>\n",
       "      <td>-44.418298</td>\n",
       "      <td>0.0</td>\n",
       "      <td>-44.418298</td>\n",
       "    </tr>\n",
       "    <tr>\n",
       "      <th>2</th>\n",
       "      <td>038af19179925da21a25619c5a24b745</td>\n",
       "      <td>44.418298</td>\n",
       "      <td>0.0</td>\n",
       "      <td>0.0</td>\n",
       "      <td>-44.418298</td>\n",
       "      <td>0.0</td>\n",
       "      <td>-44.418298</td>\n",
       "    </tr>\n",
       "    <tr>\n",
       "      <th>3</th>\n",
       "      <td>038af19179925da21a25619c5a24b745</td>\n",
       "      <td>44.416557</td>\n",
       "      <td>0.0</td>\n",
       "      <td>0.0</td>\n",
       "      <td>-44.416557</td>\n",
       "      <td>0.0</td>\n",
       "      <td>-44.416557</td>\n",
       "    </tr>\n",
       "    <tr>\n",
       "      <th>4</th>\n",
       "      <td>038af19179925da21a25619c5a24b745</td>\n",
       "      <td>44.416557</td>\n",
       "      <td>0.0</td>\n",
       "      <td>0.0</td>\n",
       "      <td>-44.416557</td>\n",
       "      <td>0.0</td>\n",
       "      <td>-44.416557</td>\n",
       "    </tr>\n",
       "  </tbody>\n",
       "</table>\n",
       "</div>"
      ],
      "text/plain": [
       "                                 id   price_p1  price_p2  price_p3       pp12  \\\n",
       "0  038af19179925da21a25619c5a24b745  44.418298       0.0       0.0 -44.418298   \n",
       "1  038af19179925da21a25619c5a24b745  44.418298       0.0       0.0 -44.418298   \n",
       "2  038af19179925da21a25619c5a24b745  44.418298       0.0       0.0 -44.418298   \n",
       "3  038af19179925da21a25619c5a24b745  44.416557       0.0       0.0 -44.416557   \n",
       "4  038af19179925da21a25619c5a24b745  44.416557       0.0       0.0 -44.416557   \n",
       "\n",
       "   pp23       pp13  \n",
       "0   0.0 -44.418298  \n",
       "1   0.0 -44.418298  \n",
       "2   0.0 -44.418298  \n",
       "3   0.0 -44.416557  \n",
       "4   0.0 -44.416557  "
      ]
     },
     "execution_count": 34,
     "metadata": {},
     "output_type": "execute_result"
    }
   ],
   "source": [
    "p_data.head()"
   ]
  },
  {
   "cell_type": "code",
   "execution_count": 35,
   "metadata": {},
   "outputs": [
    {
     "data": {
      "text/plain": [
       "(193002, 7)"
      ]
     },
     "execution_count": 35,
     "metadata": {},
     "output_type": "execute_result"
    }
   ],
   "source": [
    "p_data.shape"
   ]
  },
  {
   "cell_type": "code",
   "execution_count": 36,
   "metadata": {},
   "outputs": [],
   "source": [
    "data=pd.merge(p_data,c_data, on=['id'])"
   ]
  },
  {
   "cell_type": "code",
   "execution_count": 37,
   "metadata": {},
   "outputs": [],
   "source": [
    "data.drop(['id','date_activ', 'date_end', 'date_modif_prod', 'date_renewal'],axis=1,inplace=True)"
   ]
  },
  {
   "cell_type": "code",
   "execution_count": 38,
   "metadata": {},
   "outputs": [
    {
     "data": {
      "text/plain": [
       "(175149, 29)"
      ]
     },
     "execution_count": 38,
     "metadata": {},
     "output_type": "execute_result"
    }
   ],
   "source": [
    "data.shape"
   ]
  },
  {
   "cell_type": "code",
   "execution_count": 39,
   "metadata": {},
   "outputs": [
    {
     "data": {
      "text/plain": [
       "Index(['price_p1', 'price_p2', 'price_p3', 'pp12', 'pp23', 'pp13',\n",
       "       'channel_sales', 'cons_12m', 'cons_gas_12m', 'cons_last_month',\n",
       "       'forecast_cons_12m', 'forecast_cons_year', 'forecast_discount_energy',\n",
       "       'forecast_meter_rent_12m', 'forecast_price_energy_off_peak',\n",
       "       'forecast_price_energy_peak', 'forecast_price_pow_off_peak', 'has_gas',\n",
       "       'imp_cons', 'margin_gross_pow_ele', 'margin_net_pow_ele', 'nb_prod_act',\n",
       "       'net_margin', 'num_years_antig', 'origin_up', 'pow_max', 'churn',\n",
       "       'contract_tenure', 'contract_tenure_year'],\n",
       "      dtype='object')"
      ]
     },
     "execution_count": 39,
     "metadata": {},
     "output_type": "execute_result"
    }
   ],
   "source": [
    "data.columns"
   ]
  },
  {
   "cell_type": "code",
   "execution_count": 40,
   "metadata": {},
   "outputs": [],
   "source": [
    "data.fillna(0,inplace=True)"
   ]
  },
  {
   "cell_type": "code",
   "execution_count": 41,
   "metadata": {},
   "outputs": [
    {
     "data": {
      "text/html": [
       "<div>\n",
       "<style scoped>\n",
       "    .dataframe tbody tr th:only-of-type {\n",
       "        vertical-align: middle;\n",
       "    }\n",
       "\n",
       "    .dataframe tbody tr th {\n",
       "        vertical-align: top;\n",
       "    }\n",
       "\n",
       "    .dataframe thead th {\n",
       "        text-align: right;\n",
       "    }\n",
       "</style>\n",
       "<table border=\"1\" class=\"dataframe\">\n",
       "  <thead>\n",
       "    <tr style=\"text-align: right;\">\n",
       "      <th></th>\n",
       "      <th>price_p1</th>\n",
       "      <th>price_p2</th>\n",
       "      <th>price_p3</th>\n",
       "      <th>pp12</th>\n",
       "      <th>pp23</th>\n",
       "      <th>pp13</th>\n",
       "      <th>channel_sales</th>\n",
       "      <th>cons_12m</th>\n",
       "      <th>cons_gas_12m</th>\n",
       "      <th>cons_last_month</th>\n",
       "      <th>...</th>\n",
       "      <th>margin_gross_pow_ele</th>\n",
       "      <th>margin_net_pow_ele</th>\n",
       "      <th>nb_prod_act</th>\n",
       "      <th>net_margin</th>\n",
       "      <th>num_years_antig</th>\n",
       "      <th>origin_up</th>\n",
       "      <th>pow_max</th>\n",
       "      <th>churn</th>\n",
       "      <th>contract_tenure</th>\n",
       "      <th>contract_tenure_year</th>\n",
       "    </tr>\n",
       "  </thead>\n",
       "  <tbody>\n",
       "    <tr>\n",
       "      <th>932</th>\n",
       "      <td>44.592310</td>\n",
       "      <td>0.000000</td>\n",
       "      <td>0.000000</td>\n",
       "      <td>-44.592310</td>\n",
       "      <td>0.000000</td>\n",
       "      <td>-44.592310</td>\n",
       "      <td>4</td>\n",
       "      <td>9968</td>\n",
       "      <td>33491</td>\n",
       "      <td>1389</td>\n",
       "      <td>...</td>\n",
       "      <td>19.28</td>\n",
       "      <td>19.28</td>\n",
       "      <td>2</td>\n",
       "      <td>141.31</td>\n",
       "      <td>3</td>\n",
       "      <td>1</td>\n",
       "      <td>13.200</td>\n",
       "      <td>0</td>\n",
       "      <td>1096</td>\n",
       "      <td>3</td>\n",
       "    </tr>\n",
       "    <tr>\n",
       "      <th>88483</th>\n",
       "      <td>44.588653</td>\n",
       "      <td>0.000000</td>\n",
       "      <td>0.000000</td>\n",
       "      <td>-44.588653</td>\n",
       "      <td>0.000000</td>\n",
       "      <td>-44.588653</td>\n",
       "      <td>6</td>\n",
       "      <td>7673</td>\n",
       "      <td>0</td>\n",
       "      <td>0</td>\n",
       "      <td>...</td>\n",
       "      <td>21.48</td>\n",
       "      <td>21.48</td>\n",
       "      <td>1</td>\n",
       "      <td>108.56</td>\n",
       "      <td>3</td>\n",
       "      <td>3</td>\n",
       "      <td>10.392</td>\n",
       "      <td>0</td>\n",
       "      <td>1019</td>\n",
       "      <td>3</td>\n",
       "    </tr>\n",
       "    <tr>\n",
       "      <th>121503</th>\n",
       "      <td>40.695413</td>\n",
       "      <td>24.446444</td>\n",
       "      <td>16.301393</td>\n",
       "      <td>-16.248970</td>\n",
       "      <td>-8.145051</td>\n",
       "      <td>-24.394021</td>\n",
       "      <td>1</td>\n",
       "      <td>3863</td>\n",
       "      <td>0</td>\n",
       "      <td>364</td>\n",
       "      <td>...</td>\n",
       "      <td>31.41</td>\n",
       "      <td>31.41</td>\n",
       "      <td>1</td>\n",
       "      <td>48.03</td>\n",
       "      <td>4</td>\n",
       "      <td>1</td>\n",
       "      <td>17.321</td>\n",
       "      <td>0</td>\n",
       "      <td>1461</td>\n",
       "      <td>4</td>\n",
       "    </tr>\n",
       "    <tr>\n",
       "      <th>142477</th>\n",
       "      <td>44.414913</td>\n",
       "      <td>0.000000</td>\n",
       "      <td>0.000000</td>\n",
       "      <td>-44.414913</td>\n",
       "      <td>0.000000</td>\n",
       "      <td>-44.414913</td>\n",
       "      <td>2</td>\n",
       "      <td>822</td>\n",
       "      <td>0</td>\n",
       "      <td>0</td>\n",
       "      <td>...</td>\n",
       "      <td>28.80</td>\n",
       "      <td>28.80</td>\n",
       "      <td>1</td>\n",
       "      <td>12.89</td>\n",
       "      <td>5</td>\n",
       "      <td>2</td>\n",
       "      <td>11.500</td>\n",
       "      <td>0</td>\n",
       "      <td>1826</td>\n",
       "      <td>5</td>\n",
       "    </tr>\n",
       "    <tr>\n",
       "      <th>125974</th>\n",
       "      <td>40.857099</td>\n",
       "      <td>24.542873</td>\n",
       "      <td>16.365110</td>\n",
       "      <td>-16.314226</td>\n",
       "      <td>-8.177763</td>\n",
       "      <td>-24.491989</td>\n",
       "      <td>1</td>\n",
       "      <td>37854</td>\n",
       "      <td>12741</td>\n",
       "      <td>5809</td>\n",
       "      <td>...</td>\n",
       "      <td>24.18</td>\n",
       "      <td>24.18</td>\n",
       "      <td>4</td>\n",
       "      <td>480.70</td>\n",
       "      <td>5</td>\n",
       "      <td>1</td>\n",
       "      <td>20.000</td>\n",
       "      <td>0</td>\n",
       "      <td>1827</td>\n",
       "      <td>5</td>\n",
       "    </tr>\n",
       "    <tr>\n",
       "      <th>...</th>\n",
       "      <td>...</td>\n",
       "      <td>...</td>\n",
       "      <td>...</td>\n",
       "      <td>...</td>\n",
       "      <td>...</td>\n",
       "      <td>...</td>\n",
       "      <td>...</td>\n",
       "      <td>...</td>\n",
       "      <td>...</td>\n",
       "      <td>...</td>\n",
       "      <td>...</td>\n",
       "      <td>...</td>\n",
       "      <td>...</td>\n",
       "      <td>...</td>\n",
       "      <td>...</td>\n",
       "      <td>...</td>\n",
       "      <td>...</td>\n",
       "      <td>...</td>\n",
       "      <td>...</td>\n",
       "      <td>...</td>\n",
       "      <td>...</td>\n",
       "    </tr>\n",
       "    <tr>\n",
       "      <th>74036</th>\n",
       "      <td>40.688477</td>\n",
       "      <td>24.439508</td>\n",
       "      <td>16.294457</td>\n",
       "      <td>-16.248970</td>\n",
       "      <td>-8.145051</td>\n",
       "      <td>-24.394021</td>\n",
       "      <td>3</td>\n",
       "      <td>85992</td>\n",
       "      <td>0</td>\n",
       "      <td>5255</td>\n",
       "      <td>...</td>\n",
       "      <td>3.21</td>\n",
       "      <td>3.21</td>\n",
       "      <td>1</td>\n",
       "      <td>654.81</td>\n",
       "      <td>6</td>\n",
       "      <td>1</td>\n",
       "      <td>50.000</td>\n",
       "      <td>0</td>\n",
       "      <td>2364</td>\n",
       "      <td>6</td>\n",
       "    </tr>\n",
       "    <tr>\n",
       "      <th>24479</th>\n",
       "      <td>40.848801</td>\n",
       "      <td>24.539562</td>\n",
       "      <td>16.367812</td>\n",
       "      <td>-16.309239</td>\n",
       "      <td>-8.171750</td>\n",
       "      <td>-24.480989</td>\n",
       "      <td>5</td>\n",
       "      <td>1564610</td>\n",
       "      <td>0</td>\n",
       "      <td>184299</td>\n",
       "      <td>...</td>\n",
       "      <td>18.71</td>\n",
       "      <td>18.71</td>\n",
       "      <td>1</td>\n",
       "      <td>361.20</td>\n",
       "      <td>4</td>\n",
       "      <td>1</td>\n",
       "      <td>24.249</td>\n",
       "      <td>0</td>\n",
       "      <td>1460</td>\n",
       "      <td>4</td>\n",
       "    </tr>\n",
       "    <tr>\n",
       "      <th>155815</th>\n",
       "      <td>44.417522</td>\n",
       "      <td>0.000000</td>\n",
       "      <td>0.000000</td>\n",
       "      <td>-44.417522</td>\n",
       "      <td>0.000000</td>\n",
       "      <td>-44.417522</td>\n",
       "      <td>3</td>\n",
       "      <td>3007</td>\n",
       "      <td>5381</td>\n",
       "      <td>180</td>\n",
       "      <td>...</td>\n",
       "      <td>23.76</td>\n",
       "      <td>23.76</td>\n",
       "      <td>3</td>\n",
       "      <td>21.59</td>\n",
       "      <td>3</td>\n",
       "      <td>3</td>\n",
       "      <td>10.392</td>\n",
       "      <td>0</td>\n",
       "      <td>1096</td>\n",
       "      <td>3</td>\n",
       "    </tr>\n",
       "    <tr>\n",
       "      <th>169979</th>\n",
       "      <td>44.417142</td>\n",
       "      <td>0.000000</td>\n",
       "      <td>0.000000</td>\n",
       "      <td>-44.417142</td>\n",
       "      <td>0.000000</td>\n",
       "      <td>-44.417142</td>\n",
       "      <td>2</td>\n",
       "      <td>24962</td>\n",
       "      <td>0</td>\n",
       "      <td>1289</td>\n",
       "      <td>...</td>\n",
       "      <td>13.08</td>\n",
       "      <td>13.08</td>\n",
       "      <td>1</td>\n",
       "      <td>26.46</td>\n",
       "      <td>6</td>\n",
       "      <td>2</td>\n",
       "      <td>11.000</td>\n",
       "      <td>0</td>\n",
       "      <td>2526</td>\n",
       "      <td>7</td>\n",
       "    </tr>\n",
       "    <tr>\n",
       "      <th>40461</th>\n",
       "      <td>44.412963</td>\n",
       "      <td>0.085483</td>\n",
       "      <td>0.000000</td>\n",
       "      <td>-44.327480</td>\n",
       "      <td>-0.085483</td>\n",
       "      <td>-44.412963</td>\n",
       "      <td>2</td>\n",
       "      <td>199534</td>\n",
       "      <td>0</td>\n",
       "      <td>3853</td>\n",
       "      <td>...</td>\n",
       "      <td>34.56</td>\n",
       "      <td>34.56</td>\n",
       "      <td>1</td>\n",
       "      <td>72.16</td>\n",
       "      <td>6</td>\n",
       "      <td>2</td>\n",
       "      <td>13.800</td>\n",
       "      <td>0</td>\n",
       "      <td>2223</td>\n",
       "      <td>6</td>\n",
       "    </tr>\n",
       "  </tbody>\n",
       "</table>\n",
       "<p>17515 rows × 29 columns</p>\n",
       "</div>"
      ],
      "text/plain": [
       "         price_p1   price_p2   price_p3       pp12      pp23       pp13  \\\n",
       "932     44.592310   0.000000   0.000000 -44.592310  0.000000 -44.592310   \n",
       "88483   44.588653   0.000000   0.000000 -44.588653  0.000000 -44.588653   \n",
       "121503  40.695413  24.446444  16.301393 -16.248970 -8.145051 -24.394021   \n",
       "142477  44.414913   0.000000   0.000000 -44.414913  0.000000 -44.414913   \n",
       "125974  40.857099  24.542873  16.365110 -16.314226 -8.177763 -24.491989   \n",
       "...           ...        ...        ...        ...       ...        ...   \n",
       "74036   40.688477  24.439508  16.294457 -16.248970 -8.145051 -24.394021   \n",
       "24479   40.848801  24.539562  16.367812 -16.309239 -8.171750 -24.480989   \n",
       "155815  44.417522   0.000000   0.000000 -44.417522  0.000000 -44.417522   \n",
       "169979  44.417142   0.000000   0.000000 -44.417142  0.000000 -44.417142   \n",
       "40461   44.412963   0.085483   0.000000 -44.327480 -0.085483 -44.412963   \n",
       "\n",
       "        channel_sales  cons_12m  cons_gas_12m  cons_last_month  ...  \\\n",
       "932                 4      9968         33491             1389  ...   \n",
       "88483               6      7673             0                0  ...   \n",
       "121503              1      3863             0              364  ...   \n",
       "142477              2       822             0                0  ...   \n",
       "125974              1     37854         12741             5809  ...   \n",
       "...               ...       ...           ...              ...  ...   \n",
       "74036               3     85992             0             5255  ...   \n",
       "24479               5   1564610             0           184299  ...   \n",
       "155815              3      3007          5381              180  ...   \n",
       "169979              2     24962             0             1289  ...   \n",
       "40461               2    199534             0             3853  ...   \n",
       "\n",
       "        margin_gross_pow_ele  margin_net_pow_ele  nb_prod_act  net_margin  \\\n",
       "932                    19.28               19.28            2      141.31   \n",
       "88483                  21.48               21.48            1      108.56   \n",
       "121503                 31.41               31.41            1       48.03   \n",
       "142477                 28.80               28.80            1       12.89   \n",
       "125974                 24.18               24.18            4      480.70   \n",
       "...                      ...                 ...          ...         ...   \n",
       "74036                   3.21                3.21            1      654.81   \n",
       "24479                  18.71               18.71            1      361.20   \n",
       "155815                 23.76               23.76            3       21.59   \n",
       "169979                 13.08               13.08            1       26.46   \n",
       "40461                  34.56               34.56            1       72.16   \n",
       "\n",
       "        num_years_antig  origin_up  pow_max  churn  contract_tenure  \\\n",
       "932                   3          1   13.200      0             1096   \n",
       "88483                 3          3   10.392      0             1019   \n",
       "121503                4          1   17.321      0             1461   \n",
       "142477                5          2   11.500      0             1826   \n",
       "125974                5          1   20.000      0             1827   \n",
       "...                 ...        ...      ...    ...              ...   \n",
       "74036                 6          1   50.000      0             2364   \n",
       "24479                 4          1   24.249      0             1460   \n",
       "155815                3          3   10.392      0             1096   \n",
       "169979                6          2   11.000      0             2526   \n",
       "40461                 6          2   13.800      0             2223   \n",
       "\n",
       "        contract_tenure_year  \n",
       "932                        3  \n",
       "88483                      3  \n",
       "121503                     4  \n",
       "142477                     5  \n",
       "125974                     5  \n",
       "...                      ...  \n",
       "74036                      6  \n",
       "24479                      4  \n",
       "155815                     3  \n",
       "169979                     7  \n",
       "40461                      6  \n",
       "\n",
       "[17515 rows x 29 columns]"
      ]
     },
     "execution_count": 41,
     "metadata": {},
     "output_type": "execute_result"
    }
   ],
   "source": [
    "sample_data = data.sample(frac=0.1, random_state=22)\n",
    "sample_data"
   ]
  },
  {
   "cell_type": "code",
   "execution_count": 42,
   "metadata": {},
   "outputs": [],
   "source": [
    "#Spliting into X & Y\n",
    "x=sample_data.drop('churn',axis=1)\n",
    "y=sample_data.churn"
   ]
  },
  {
   "cell_type": "code",
   "execution_count": 43,
   "metadata": {},
   "outputs": [
    {
     "data": {
      "text/plain": [
       "(17515, 28)"
      ]
     },
     "execution_count": 43,
     "metadata": {},
     "output_type": "execute_result"
    }
   ],
   "source": [
    "x.shape"
   ]
  },
  {
   "cell_type": "code",
   "execution_count": 44,
   "metadata": {},
   "outputs": [
    {
     "data": {
      "text/plain": [
       "(17515,)"
      ]
     },
     "execution_count": 44,
     "metadata": {},
     "output_type": "execute_result"
    }
   ],
   "source": [
    "y.shape"
   ]
  },
  {
   "cell_type": "code",
   "execution_count": 45,
   "metadata": {},
   "outputs": [
    {
     "data": {
      "text/plain": [
       "Index(['price_p1', 'price_p2', 'price_p3', 'pp12', 'pp23', 'pp13',\n",
       "       'channel_sales', 'cons_12m', 'cons_gas_12m', 'cons_last_month',\n",
       "       'forecast_cons_12m', 'forecast_cons_year', 'forecast_discount_energy',\n",
       "       'forecast_meter_rent_12m', 'forecast_price_energy_off_peak',\n",
       "       'forecast_price_energy_peak', 'forecast_price_pow_off_peak', 'has_gas',\n",
       "       'imp_cons', 'margin_gross_pow_ele', 'margin_net_pow_ele', 'nb_prod_act',\n",
       "       'net_margin', 'num_years_antig', 'origin_up', 'pow_max',\n",
       "       'contract_tenure', 'contract_tenure_year'],\n",
       "      dtype='object')"
      ]
     },
     "execution_count": 45,
     "metadata": {},
     "output_type": "execute_result"
    }
   ],
   "source": [
    "x.columns"
   ]
  },
  {
   "cell_type": "code",
   "execution_count": 46,
   "metadata": {},
   "outputs": [],
   "source": [
    "from sklearn.model_selection import train_test_split\n",
    "x_train,x_test,y_train,y_test=train_test_split(x,y,test_size=0.3,random_state=22)"
   ]
  },
  {
   "cell_type": "code",
   "execution_count": 47,
   "metadata": {},
   "outputs": [],
   "source": [
    "from sklearn.preprocessing import StandardScaler\n",
    "scaler = StandardScaler()\n",
    "scaled_X_train = scaler.fit_transform(x_train)\n",
    "scaled_X_test = scaler.transform(x_test)"
   ]
  },
  {
   "cell_type": "code",
   "execution_count": 48,
   "metadata": {},
   "outputs": [],
   "source": [
    "from sklearn.svm import SVC\n",
    "from sklearn.tree import DecisionTreeClassifier\n",
    "from sklearn.ensemble import RandomForestClassifier\n",
    "from sklearn.ensemble import GradientBoostingClassifier\n",
    "from sklearn.ensemble import AdaBoostClassifier\n",
    "from xgboost import XGBClassifier"
   ]
  },
  {
   "cell_type": "code",
   "execution_count": 49,
   "metadata": {},
   "outputs": [],
   "source": [
    "def fit_and_score(models, x_train, x_test, y_train, y_test):\n",
    "    np.random.seed(22)\n",
    "    \n",
    "    model_scores = {}\n",
    "    \n",
    "    for name, model in models.items():\n",
    "        model.fit(x_train,y_train)\n",
    "        model_scores[name] = model.score(x_test,y_test)\n",
    "\n",
    "    model_scores = pd.DataFrame(model_scores, index=['Accuracy'])\n",
    "    model_scores = model_scores.transpose().sort_values('Accuracy')\n",
    "\n",
    "    return model_scores"
   ]
  },
  {
   "cell_type": "code",
   "execution_count": 50,
   "metadata": {},
   "outputs": [],
   "source": [
    "models={'SVC': SVC(),\n",
    "        'DECISION TREE' : DecisionTreeClassifier(),\n",
    "        'RANDOM FOREST' : RandomForestClassifier(),\n",
    "        'GRADIENT BOOSTING': GradientBoostingClassifier(),\n",
    "        'AdaBoost' : AdaBoostClassifier(),\n",
    "        'XGBOOST' : XGBClassifier()}"
   ]
  },
  {
   "cell_type": "code",
   "execution_count": 51,
   "metadata": {},
   "outputs": [
    {
     "name": "stderr",
     "output_type": "stream",
     "text": [
      "C:\\Users\\ASUS\\anaconda3\\envs\\envo\\lib\\site-packages\\xgboost\\sklearn.py:1224: UserWarning: The use of label encoder in XGBClassifier is deprecated and will be removed in a future release. To remove this warning, do the following: 1) Pass option use_label_encoder=False when constructing XGBClassifier object; and 2) Encode your labels (y) as integers starting with 0, i.e. 0, 1, 2, ..., [num_class - 1].\n",
      "  warnings.warn(label_encoder_deprecation_msg, UserWarning)\n"
     ]
    },
    {
     "name": "stdout",
     "output_type": "stream",
     "text": [
      "[22:29:02] WARNING: C:/Users/Administrator/workspace/xgboost-win64_release_1.5.1/src/learner.cc:1115: Starting in XGBoost 1.3.0, the default evaluation metric used with the objective 'binary:logistic' was changed from 'error' to 'logloss'. Explicitly set eval_metric if you'd like to restore the old behavior.\n"
     ]
    },
    {
     "data": {
      "text/html": [
       "<div>\n",
       "<style scoped>\n",
       "    .dataframe tbody tr th:only-of-type {\n",
       "        vertical-align: middle;\n",
       "    }\n",
       "\n",
       "    .dataframe tbody tr th {\n",
       "        vertical-align: top;\n",
       "    }\n",
       "\n",
       "    .dataframe thead th {\n",
       "        text-align: right;\n",
       "    }\n",
       "</style>\n",
       "<table border=\"1\" class=\"dataframe\">\n",
       "  <thead>\n",
       "    <tr style=\"text-align: right;\">\n",
       "      <th></th>\n",
       "      <th>Accuracy</th>\n",
       "    </tr>\n",
       "  </thead>\n",
       "  <tbody>\n",
       "    <tr>\n",
       "      <th>AdaBoost</th>\n",
       "      <td>0.898382</td>\n",
       "    </tr>\n",
       "    <tr>\n",
       "      <th>SVC</th>\n",
       "      <td>0.898573</td>\n",
       "    </tr>\n",
       "    <tr>\n",
       "      <th>GRADIENT BOOSTING</th>\n",
       "      <td>0.901047</td>\n",
       "    </tr>\n",
       "    <tr>\n",
       "      <th>DECISION TREE</th>\n",
       "      <td>0.920266</td>\n",
       "    </tr>\n",
       "    <tr>\n",
       "      <th>XGBOOST</th>\n",
       "      <td>0.937583</td>\n",
       "    </tr>\n",
       "    <tr>\n",
       "      <th>RANDOM FOREST</th>\n",
       "      <td>0.939486</td>\n",
       "    </tr>\n",
       "  </tbody>\n",
       "</table>\n",
       "</div>"
      ],
      "text/plain": [
       "                   Accuracy\n",
       "AdaBoost           0.898382\n",
       "SVC                0.898573\n",
       "GRADIENT BOOSTING  0.901047\n",
       "DECISION TREE      0.920266\n",
       "XGBOOST            0.937583\n",
       "RANDOM FOREST      0.939486"
      ]
     },
     "execution_count": 51,
     "metadata": {},
     "output_type": "execute_result"
    }
   ],
   "source": [
    "baseline_model = fit_and_score(models, x_train, x_test, y_train, y_test)\n",
    "baseline_model.sort_values('Accuracy')"
   ]
  },
  {
   "cell_type": "code",
   "execution_count": 52,
   "metadata": {},
   "outputs": [
    {
     "data": {
      "image/png": "[encoded data removed]",
      "text/plain": [
       "<Figure size 864x504 with 1 Axes>"
      ]
     },
     "metadata": {
      "needs_background": "light"
     },
     "output_type": "display_data"
    }
   ],
   "source": [
    "plt.figure(figsize=(12,7))\n",
    "sns.barplot(data=baseline_model.T)\n",
    "plt.title('Baseline Model Accuracy Score')\n",
    "plt.xticks(rotation=90);"
   ]
  },
  {
   "cell_type": "markdown",
   "metadata": {},
   "source": [
    "Model Building on Orignal Data "
   ]
  },
  {
   "cell_type": "code",
   "execution_count": 53,
   "metadata": {},
   "outputs": [],
   "source": [
    "#Spliting into X & Y\n",
    "x=data.drop('churn',axis=1)\n",
    "y=data.churn"
   ]
  },
  {
   "cell_type": "code",
   "execution_count": 54,
   "metadata": {},
   "outputs": [
    {
     "data": {
      "text/plain": [
       "Index(['price_p1', 'price_p2', 'price_p3', 'pp12', 'pp23', 'pp13',\n",
       "       'channel_sales', 'cons_12m', 'cons_gas_12m', 'cons_last_month',\n",
       "       'forecast_cons_12m', 'forecast_cons_year', 'forecast_discount_energy',\n",
       "       'forecast_meter_rent_12m', 'forecast_price_energy_off_peak',\n",
       "       'forecast_price_energy_peak', 'forecast_price_pow_off_peak', 'has_gas',\n",
       "       'imp_cons', 'margin_gross_pow_ele', 'margin_net_pow_ele', 'nb_prod_act',\n",
       "       'net_margin', 'num_years_antig', 'origin_up', 'pow_max',\n",
       "       'contract_tenure', 'contract_tenure_year'],\n",
       "      dtype='object')"
      ]
     },
     "execution_count": 54,
     "metadata": {},
     "output_type": "execute_result"
    }
   ],
   "source": [
    "x.columns"
   ]
  },
  {
   "cell_type": "code",
   "execution_count": 55,
   "metadata": {},
   "outputs": [],
   "source": [
    "from sklearn.model_selection import train_test_split\n",
    "x_train,x_test,y_train,y_test=train_test_split(x,y,test_size=0.3,random_state=22)"
   ]
  },
  {
   "cell_type": "code",
   "execution_count": 56,
   "metadata": {},
   "outputs": [],
   "source": [
    "from sklearn.preprocessing import StandardScaler\n",
    "scaler = StandardScaler()\n",
    "scaled_X_train = scaler.fit_transform(x_train)\n",
    "scaled_X_test = scaler.transform(x_test)"
   ]
  },
  {
   "cell_type": "code",
   "execution_count": 57,
   "metadata": {},
   "outputs": [
    {
     "name": "stderr",
     "output_type": "stream",
     "text": [
      "C:\\Users\\ASUS\\anaconda3\\envs\\envo\\lib\\site-packages\\xgboost\\sklearn.py:1224: UserWarning: The use of label encoder in XGBClassifier is deprecated and will be removed in a future release. To remove this warning, do the following: 1) Pass option use_label_encoder=False when constructing XGBClassifier object; and 2) Encode your labels (y) as integers starting with 0, i.e. 0, 1, 2, ..., [num_class - 1].\n",
      "  warnings.warn(label_encoder_deprecation_msg, UserWarning)\n"
     ]
    },
    {
     "name": "stdout",
     "output_type": "stream",
     "text": [
      "[22:39:32] WARNING: C:/Users/Administrator/workspace/xgboost-win64_release_1.5.1/src/learner.cc:1115: Starting in XGBoost 1.3.0, the default evaluation metric used with the objective 'binary:logistic' was changed from 'error' to 'logloss'. Explicitly set eval_metric if you'd like to restore the old behavior.\n",
      "Training Accuracy:  0.905003099409481\n",
      "Testing Accuarcy:  0.9013226758016938\n",
      "              precision    recall  f1-score   support\n",
      "\n",
      "           0       0.90      1.00      0.95     47310\n",
      "           1       0.92      0.01      0.02      5235\n",
      "\n",
      "    accuracy                           0.90     52545\n",
      "   macro avg       0.91      0.51      0.48     52545\n",
      "weighted avg       0.90      0.90      0.86     52545\n",
      "\n"
     ]
    },
    {
     "data": {
      "image/png": "[encoded data removed]",
      "text/plain": [
       "<Figure size 360x360 with 2 Axes>"
      ]
     },
     "metadata": {
      "needs_background": "light"
     },
     "output_type": "display_data"
    }
   ],
   "source": [
    "#Model Building\n",
    "#XGBM\n",
    "import xgboost as xgb\n",
    "from sklearn.metrics import classification_report\n",
    "from sklearn.metrics import confusion_matrix\n",
    "\n",
    "model =xgb.XGBClassifier(random_state=22,n_estimators=100,max_depth=5,min_child_weight=1,gamma=0,learning_rate=0.01)\n",
    "model.fit(x_train, y_train)\n",
    "y_pred_rf = model.predict(x_test)\n",
    "print(\"Training Accuracy: \", model.score(x_train, y_train))\n",
    "print('Testing Accuarcy: ', model.score(x_test, y_test))\n",
    "\n",
    "# making a classification report\n",
    "cr = classification_report(y_test,  y_pred_rf)\n",
    "print(cr)\n",
    "\n",
    "# making a confusion matrix\n",
    "plt.rcParams['figure.figsize'] = (5, 5)\n",
    "cm = confusion_matrix(y_test, y_pred_rf)\n",
    "sns.heatmap(cm, annot = True, cmap = 'bone_r')\n",
    "plt.show()"
   ]
  },
  {
   "cell_type": "markdown",
   "metadata": {},
   "source": [
    "XGBoost gives us 90% accuracy."
   ]
  }
 ],
 "metadata": {
  "interpreter": {
   "hash": "587fb584d547ee158da5b451f77f74aec36337c97101cdd04b5daaa64e8647e9"
  },
  "kernelspec": {
   "display_name": "Python 3.9.7 ('envo')",
   "language": "python",
   "name": "python3"
  },
  "language_info": {
   "codemirror_mode": {
    "name": "ipython",
    "version": 3
   },
   "file_extension": ".py",
   "mimetype": "text/x-python",
   "name": "python",
   "nbconvert_exporter": "python",
   "pygments_lexer": "ipython3",
   "version": "3.9.7"
  },
  "orig_nbformat": 4
 },
 "nbformat": 4,
 "nbformat_minor": 2
}
